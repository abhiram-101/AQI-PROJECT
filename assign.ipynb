{
 "cells": [
  {
   "cell_type": "code",
   "execution_count": 5,
   "id": "8f17aaa7-3fc4-419a-9867-b98143fc3c46",
   "metadata": {},
   "outputs": [
    {
     "data": {
      "text/html": [
       "<div>\n",
       "<style scoped>\n",
       "    .dataframe tbody tr th:only-of-type {\n",
       "        vertical-align: middle;\n",
       "    }\n",
       "\n",
       "    .dataframe tbody tr th {\n",
       "        vertical-align: top;\n",
       "    }\n",
       "\n",
       "    .dataframe thead th {\n",
       "        text-align: right;\n",
       "    }\n",
       "</style>\n",
       "<table border=\"1\" class=\"dataframe\">\n",
       "  <thead>\n",
       "    <tr style=\"text-align: right;\">\n",
       "      <th></th>\n",
       "      <th>City</th>\n",
       "      <th>Date</th>\n",
       "      <th>AQI</th>\n",
       "      <th>PM2.5</th>\n",
       "      <th>PM10</th>\n",
       "      <th>NO2</th>\n",
       "      <th>SO2</th>\n",
       "      <th>CO</th>\n",
       "      <th>O3</th>\n",
       "    </tr>\n",
       "  </thead>\n",
       "  <tbody>\n",
       "    <tr>\n",
       "      <th>0</th>\n",
       "      <td>Bangalore</td>\n",
       "      <td>01/01/18</td>\n",
       "      <td>68</td>\n",
       "      <td>37.40</td>\n",
       "      <td>73.44</td>\n",
       "      <td>56.44</td>\n",
       "      <td>77.52</td>\n",
       "      <td>0.71</td>\n",
       "      <td>64.60</td>\n",
       "    </tr>\n",
       "    <tr>\n",
       "      <th>1</th>\n",
       "      <td>Bangalore</td>\n",
       "      <td>02/01/18</td>\n",
       "      <td>76</td>\n",
       "      <td>41.80</td>\n",
       "      <td>82.08</td>\n",
       "      <td>63.08</td>\n",
       "      <td>86.64</td>\n",
       "      <td>0.80</td>\n",
       "      <td>72.20</td>\n",
       "    </tr>\n",
       "    <tr>\n",
       "      <th>2</th>\n",
       "      <td>Bangalore</td>\n",
       "      <td>03/01/18</td>\n",
       "      <td>70</td>\n",
       "      <td>38.50</td>\n",
       "      <td>75.60</td>\n",
       "      <td>58.10</td>\n",
       "      <td>79.80</td>\n",
       "      <td>0.74</td>\n",
       "      <td>66.50</td>\n",
       "    </tr>\n",
       "    <tr>\n",
       "      <th>3</th>\n",
       "      <td>Bangalore</td>\n",
       "      <td>04/01/18</td>\n",
       "      <td>78</td>\n",
       "      <td>42.90</td>\n",
       "      <td>84.24</td>\n",
       "      <td>64.74</td>\n",
       "      <td>88.92</td>\n",
       "      <td>0.82</td>\n",
       "      <td>74.10</td>\n",
       "    </tr>\n",
       "    <tr>\n",
       "      <th>4</th>\n",
       "      <td>Bangalore</td>\n",
       "      <td>05/01/18</td>\n",
       "      <td>82</td>\n",
       "      <td>45.10</td>\n",
       "      <td>88.56</td>\n",
       "      <td>68.06</td>\n",
       "      <td>93.48</td>\n",
       "      <td>0.86</td>\n",
       "      <td>77.90</td>\n",
       "    </tr>\n",
       "    <tr>\n",
       "      <th>...</th>\n",
       "      <td>...</td>\n",
       "      <td>...</td>\n",
       "      <td>...</td>\n",
       "      <td>...</td>\n",
       "      <td>...</td>\n",
       "      <td>...</td>\n",
       "      <td>...</td>\n",
       "      <td>...</td>\n",
       "      <td>...</td>\n",
       "    </tr>\n",
       "    <tr>\n",
       "      <th>2551</th>\n",
       "      <td>Bangalore</td>\n",
       "      <td>27/12/24</td>\n",
       "      <td>54</td>\n",
       "      <td>29.70</td>\n",
       "      <td>58.32</td>\n",
       "      <td>44.82</td>\n",
       "      <td>61.56</td>\n",
       "      <td>0.57</td>\n",
       "      <td>51.30</td>\n",
       "    </tr>\n",
       "    <tr>\n",
       "      <th>2552</th>\n",
       "      <td>Bangalore</td>\n",
       "      <td>28/12/24</td>\n",
       "      <td>57</td>\n",
       "      <td>31.35</td>\n",
       "      <td>61.56</td>\n",
       "      <td>47.31</td>\n",
       "      <td>64.98</td>\n",
       "      <td>0.60</td>\n",
       "      <td>54.15</td>\n",
       "    </tr>\n",
       "    <tr>\n",
       "      <th>2553</th>\n",
       "      <td>Bangalore</td>\n",
       "      <td>29/12/24</td>\n",
       "      <td>70</td>\n",
       "      <td>38.50</td>\n",
       "      <td>75.60</td>\n",
       "      <td>58.10</td>\n",
       "      <td>79.80</td>\n",
       "      <td>0.74</td>\n",
       "      <td>66.50</td>\n",
       "    </tr>\n",
       "    <tr>\n",
       "      <th>2554</th>\n",
       "      <td>Bangalore</td>\n",
       "      <td>30/12/24</td>\n",
       "      <td>62</td>\n",
       "      <td>34.10</td>\n",
       "      <td>66.96</td>\n",
       "      <td>51.46</td>\n",
       "      <td>70.68</td>\n",
       "      <td>0.65</td>\n",
       "      <td>58.90</td>\n",
       "    </tr>\n",
       "    <tr>\n",
       "      <th>2555</th>\n",
       "      <td>Bangalore</td>\n",
       "      <td>31/12/24</td>\n",
       "      <td>65</td>\n",
       "      <td>35.75</td>\n",
       "      <td>70.20</td>\n",
       "      <td>53.95</td>\n",
       "      <td>74.10</td>\n",
       "      <td>0.68</td>\n",
       "      <td>61.75</td>\n",
       "    </tr>\n",
       "  </tbody>\n",
       "</table>\n",
       "<p>2556 rows × 9 columns</p>\n",
       "</div>"
      ],
      "text/plain": [
       "           City      Date  AQI  PM2.5   PM10    NO2    SO2    CO     O3\n",
       "0     Bangalore  01/01/18   68  37.40  73.44  56.44  77.52  0.71  64.60\n",
       "1     Bangalore  02/01/18   76  41.80  82.08  63.08  86.64  0.80  72.20\n",
       "2     Bangalore  03/01/18   70  38.50  75.60  58.10  79.80  0.74  66.50\n",
       "3     Bangalore  04/01/18   78  42.90  84.24  64.74  88.92  0.82  74.10\n",
       "4     Bangalore  05/01/18   82  45.10  88.56  68.06  93.48  0.86  77.90\n",
       "...         ...       ...  ...    ...    ...    ...    ...   ...    ...\n",
       "2551  Bangalore  27/12/24   54  29.70  58.32  44.82  61.56  0.57  51.30\n",
       "2552  Bangalore  28/12/24   57  31.35  61.56  47.31  64.98  0.60  54.15\n",
       "2553  Bangalore  29/12/24   70  38.50  75.60  58.10  79.80  0.74  66.50\n",
       "2554  Bangalore  30/12/24   62  34.10  66.96  51.46  70.68  0.65  58.90\n",
       "2555  Bangalore  31/12/24   65  35.75  70.20  53.95  74.10  0.68  61.75\n",
       "\n",
       "[2556 rows x 9 columns]"
      ]
     },
     "execution_count": 5,
     "metadata": {},
     "output_type": "execute_result"
    }
   ],
   "source": [
    "import pandas as pd\n",
    "data=pd.read_csv(r\"/home/arun/Documents/jinu/Bangalore_AQI_Dataset.csv\")\n",
    "data"
   ]
  },
  {
   "cell_type": "code",
   "execution_count": 6,
   "id": "4aecd4f9-df23-40d6-a6fb-e6c421014933",
   "metadata": {},
   "outputs": [
    {
     "data": {
      "text/plain": [
       "City     0\n",
       "Date     0\n",
       "AQI      0\n",
       "PM2.5    0\n",
       "PM10     0\n",
       "NO2      0\n",
       "SO2      0\n",
       "CO       0\n",
       "O3       0\n",
       "dtype: int64"
      ]
     },
     "execution_count": 6,
     "metadata": {},
     "output_type": "execute_result"
    }
   ],
   "source": [
    "data.isnull().sum()"
   ]
  },
  {
   "cell_type": "code",
   "execution_count": 7,
   "id": "860336b8-3549-4769-8d69-2632ae660727",
   "metadata": {},
   "outputs": [
    {
     "data": {
      "text/plain": [
       "0"
      ]
     },
     "execution_count": 7,
     "metadata": {},
     "output_type": "execute_result"
    }
   ],
   "source": [
    "data.duplicated().sum()"
   ]
  },
  {
   "cell_type": "code",
   "execution_count": 9,
   "id": "7196ece1-396d-4639-abfa-a425b4f882ab",
   "metadata": {},
   "outputs": [
    {
     "data": {
      "text/plain": [
       "0       68\n",
       "1       76\n",
       "2       70\n",
       "3       78\n",
       "4       82\n",
       "        ..\n",
       "2551    54\n",
       "2552    57\n",
       "2553    70\n",
       "2554    62\n",
       "2555    65\n",
       "Name: AQI, Length: 2556, dtype: int64"
      ]
     },
     "execution_count": 9,
     "metadata": {},
     "output_type": "execute_result"
    }
   ],
   "source": [
    "x = data[['PM2.5','PM10','NO2','SO2','CO','O3']]\n",
    "y = data['AQI']\n",
    "y"
   ]
  },
  {
   "cell_type": "code",
   "execution_count": 10,
   "id": "602a0ea0-3e57-4dcc-b8c1-c94c09b17b08",
   "metadata": {},
   "outputs": [
    {
     "data": {
      "text/plain": [
       "0       68\n",
       "1       76\n",
       "2       70\n",
       "3       78\n",
       "4       82\n",
       "        ..\n",
       "2551    54\n",
       "2552    57\n",
       "2553    70\n",
       "2554    62\n",
       "2555    65\n",
       "Name: AQI, Length: 2556, dtype: int64"
      ]
     },
     "execution_count": 10,
     "metadata": {},
     "output_type": "execute_result"
    }
   ],
   "source": [
    "from sklearn.model_selection import train_test_split\n",
    "x_train,x_test,y_train,y_test = train_test_split(x,y,test_size=0.2)\n",
    "x_train\n",
    "y"
   ]
  },
  {
   "cell_type": "code",
   "execution_count": 11,
   "id": "34920f67-9a92-4a10-a571-e69bfb33592e",
   "metadata": {},
   "outputs": [
    {
     "data": {
      "text/html": [
       "<style>#sk-container-id-1 {color: black;}#sk-container-id-1 pre{padding: 0;}#sk-container-id-1 div.sk-toggleable {background-color: white;}#sk-container-id-1 label.sk-toggleable__label {cursor: pointer;display: block;width: 100%;margin-bottom: 0;padding: 0.3em;box-sizing: border-box;text-align: center;}#sk-container-id-1 label.sk-toggleable__label-arrow:before {content: \"▸\";float: left;margin-right: 0.25em;color: #696969;}#sk-container-id-1 label.sk-toggleable__label-arrow:hover:before {color: black;}#sk-container-id-1 div.sk-estimator:hover label.sk-toggleable__label-arrow:before {color: black;}#sk-container-id-1 div.sk-toggleable__content {max-height: 0;max-width: 0;overflow: hidden;text-align: left;background-color: #f0f8ff;}#sk-container-id-1 div.sk-toggleable__content pre {margin: 0.2em;color: black;border-radius: 0.25em;background-color: #f0f8ff;}#sk-container-id-1 input.sk-toggleable__control:checked~div.sk-toggleable__content {max-height: 200px;max-width: 100%;overflow: auto;}#sk-container-id-1 input.sk-toggleable__control:checked~label.sk-toggleable__label-arrow:before {content: \"▾\";}#sk-container-id-1 div.sk-estimator input.sk-toggleable__control:checked~label.sk-toggleable__label {background-color: #d4ebff;}#sk-container-id-1 div.sk-label input.sk-toggleable__control:checked~label.sk-toggleable__label {background-color: #d4ebff;}#sk-container-id-1 input.sk-hidden--visually {border: 0;clip: rect(1px 1px 1px 1px);clip: rect(1px, 1px, 1px, 1px);height: 1px;margin: -1px;overflow: hidden;padding: 0;position: absolute;width: 1px;}#sk-container-id-1 div.sk-estimator {font-family: monospace;background-color: #f0f8ff;border: 1px dotted black;border-radius: 0.25em;box-sizing: border-box;margin-bottom: 0.5em;}#sk-container-id-1 div.sk-estimator:hover {background-color: #d4ebff;}#sk-container-id-1 div.sk-parallel-item::after {content: \"\";width: 100%;border-bottom: 1px solid gray;flex-grow: 1;}#sk-container-id-1 div.sk-label:hover label.sk-toggleable__label {background-color: #d4ebff;}#sk-container-id-1 div.sk-serial::before {content: \"\";position: absolute;border-left: 1px solid gray;box-sizing: border-box;top: 0;bottom: 0;left: 50%;z-index: 0;}#sk-container-id-1 div.sk-serial {display: flex;flex-direction: column;align-items: center;background-color: white;padding-right: 0.2em;padding-left: 0.2em;position: relative;}#sk-container-id-1 div.sk-item {position: relative;z-index: 1;}#sk-container-id-1 div.sk-parallel {display: flex;align-items: stretch;justify-content: center;background-color: white;position: relative;}#sk-container-id-1 div.sk-item::before, #sk-container-id-1 div.sk-parallel-item::before {content: \"\";position: absolute;border-left: 1px solid gray;box-sizing: border-box;top: 0;bottom: 0;left: 50%;z-index: -1;}#sk-container-id-1 div.sk-parallel-item {display: flex;flex-direction: column;z-index: 1;position: relative;background-color: white;}#sk-container-id-1 div.sk-parallel-item:first-child::after {align-self: flex-end;width: 50%;}#sk-container-id-1 div.sk-parallel-item:last-child::after {align-self: flex-start;width: 50%;}#sk-container-id-1 div.sk-parallel-item:only-child::after {width: 0;}#sk-container-id-1 div.sk-dashed-wrapped {border: 1px dashed gray;margin: 0 0.4em 0.5em 0.4em;box-sizing: border-box;padding-bottom: 0.4em;background-color: white;}#sk-container-id-1 div.sk-label label {font-family: monospace;font-weight: bold;display: inline-block;line-height: 1.2em;}#sk-container-id-1 div.sk-label-container {text-align: center;}#sk-container-id-1 div.sk-container {/* jupyter's `normalize.less` sets `[hidden] { display: none; }` but bootstrap.min.css set `[hidden] { display: none !important; }` so we also need the `!important` here to be able to override the default hidden behavior on the sphinx rendered scikit-learn.org. See: https://github.com/scikit-learn/scikit-learn/issues/21755 */display: inline-block !important;position: relative;}#sk-container-id-1 div.sk-text-repr-fallback {display: none;}</style><div id=\"sk-container-id-1\" class=\"sk-top-container\"><div class=\"sk-text-repr-fallback\"><pre>LinearRegression()</pre><b>In a Jupyter environment, please rerun this cell to show the HTML representation or trust the notebook. <br />On GitHub, the HTML representation is unable to render, please try loading this page with nbviewer.org.</b></div><div class=\"sk-container\" hidden><div class=\"sk-item\"><div class=\"sk-estimator sk-toggleable\"><input class=\"sk-toggleable__control sk-hidden--visually\" id=\"sk-estimator-id-1\" type=\"checkbox\" checked><label for=\"sk-estimator-id-1\" class=\"sk-toggleable__label sk-toggleable__label-arrow\">LinearRegression</label><div class=\"sk-toggleable__content\"><pre>LinearRegression()</pre></div></div></div></div></div>"
      ],
      "text/plain": [
       "LinearRegression()"
      ]
     },
     "execution_count": 11,
     "metadata": {},
     "output_type": "execute_result"
    }
   ],
   "source": [
    "from sklearn.linear_model import LinearRegression\n",
    "li = LinearRegression()\n",
    "li.fit(x_train,y_train)"
   ]
  },
  {
   "cell_type": "code",
   "execution_count": 12,
   "id": "430032e7-c80a-4a15-b58f-810adecb6221",
   "metadata": {},
   "outputs": [
    {
     "data": {
      "text/plain": [
       "array([ 48.,  92.,  87.,  42.,  94.,  90.,  58.,  63.,  46.,  51., 150.,\n",
       "        47.,  65.,  55.,  92.,  68.,  98.,  47., 114.,  69.,  61.,  41.,\n",
       "        50.,  58.,  97.,  76.,  60.,  33., 132.,  92.,  62., 108.,  83.,\n",
       "        56.,  64.,  52., 144.,  83.,  48.,  64.,  44.,  87.,  39.,  52.,\n",
       "       119.,  88.,  96., 108.,  62.,  98.,  96., 106.,  80.,  57.,  44.,\n",
       "        69.,  49.,  99.,  60.,  88., 105., 107., 102.,  52.,  61.,  65.,\n",
       "        75.,  88.,  65.,  90.,  64.,  94.,  77.,  49.,  52.,  69.,  67.,\n",
       "        96.,  89.,  77.,  80., 121.,  48., 102.,  42.,  47.,  58., 102.,\n",
       "        70.,  59.,  82.,  34.,  92.,  99.,  57., 133.,  65.,  80., 146.,\n",
       "       161., 130.,  57., 113.,  91.,  40.,  64.,  39.,  50.,  50.,  55.,\n",
       "        76.,  55.,  53., 105., 100.,  43.,  67.,  77.,  74.,  76., 110.,\n",
       "        70.,  48., 120.,  76., 102.,  42.,  44., 105.,  96.,  66.,  53.,\n",
       "        60.,  76.,  50.,  73.,  78.,  65.,  96.,  92., 155., 104.,  69.,\n",
       "        79.,  65., 110.,  48., 106.,  55.,  43.,  65.,  62., 101.,  38.,\n",
       "        57.,  66.,  46.,  93.,  47.,  71.,  58., 100.,  46.,  54., 105.,\n",
       "        68., 106., 144., 101.,  59.,  83.,  66.,  51.,  85., 101., 102.,\n",
       "        68.,  57.,  55.,  74.,  89., 120.,  64.,  96.,  49., 118.,  58.,\n",
       "        53.,  57.,  76.,  64., 103.,  94., 101.,  86.,  62.,  56.,  78.,\n",
       "        40.,  99., 141.,  92.,  76.,  65.,  69., 120.,  46.,  57.,  71.,\n",
       "        92.,  52.,  41.,  82., 118.,  97.,  96.,  65.,  71.,  92.,  52.,\n",
       "        57.,  65.,  89.,  50.,  75.,  60.,  55., 158., 102.,  41.,  44.,\n",
       "        43.,  61.,  49.,  37.,  91.,  90.,  67.,  38.,  88.,  57., 156.,\n",
       "        54.,  56., 109.,  91.,  97.,  88.,  73.,  46.,  59.,  53.,  35.,\n",
       "        85.,  49., 106.,  61.,  95.,  74.,  57.,  57.,  58.,  46.,  71.,\n",
       "        55.,  55.,  47.,  60.,  92.,  64.,  67., 125.,  66.,  73.,  78.,\n",
       "        39.,  47., 142.,  60.,  63.,  58.,  59.,  42.,  66., 132.,  54.,\n",
       "        91.,  58.,  55.,  53.,  62.,  68.,  95.,  71., 106., 108., 119.,\n",
       "        88.,  93.,  50.,  66., 132.,  58.,  51., 134., 102.,  86.,  68.,\n",
       "        75.,  67.,  55.,  88.,  51.,  58.,  54.,  88.,  69.,  74.,  94.,\n",
       "        71.,  47.,  56., 111.,  43.,  71., 103.,  80.,  65.,  82.,  62.,\n",
       "        62., 135., 158.,  65.,  53.,  64.,  50.,  64.,  99.,  73.,  46.,\n",
       "        50., 106.,  50., 111.,  84.,  61.,  45., 118.,  56.,  94.,  63.,\n",
       "       126.,  60.,  48.,  57.,  71.,  88.,  84.,  94.,  62.,  54.,  60.,\n",
       "        56.,  51.,  77.,  49.,  58., 111.,  82.,  55.,  94.,  84.,  61.,\n",
       "        59.,  62.,  48., 114.,  51.,  70.,  94., 112.,  58., 125.,  65.,\n",
       "        43.,  94.,  46.,  79.,  58.,  68.,  79.,  96.,  47.,  77.,  46.,\n",
       "        50., 121.,  93.,  86.,  57.,  79., 108., 108.,  89.,  67.,  81.,\n",
       "        79.,  45.,  74.,  68.,  69.,  90.,  86.,  59.,  46.,  38.,  61.,\n",
       "        39.,  69.,  61.,  45.,  59.,  42.,  64., 124.,  61.,  41.,  47.,\n",
       "       112.,  50.,  50.,  57.,  47.,  87., 111.,  54.,  72.,  64.,  59.,\n",
       "        92., 113.,  58.,  84.,  48.,  54.,  43.,  79.,  84., 154.,  55.,\n",
       "       106., 127.,  61.,  35.,  60.,  81.,  74.,  61.,  66., 103.,  55.,\n",
       "        57.,  74.,  45., 114.,  82.,  69., 106.,  52.,  39.,  54.,  40.,\n",
       "        60.,  71.,  56.,  59.,  64.,  44.,  97.,  49.,  58., 125.,  58.,\n",
       "        98., 127.,  43.,  85.,  65.,  61.,  55.,  67.,  65., 206.,  74.,\n",
       "        56.,  45.,  34.,  74.,  59.,  62.,  70., 112.,  60.,  62.,  51.,\n",
       "        58.,  84.,  55.,  41., 119.,  90.])"
      ]
     },
     "execution_count": 12,
     "metadata": {},
     "output_type": "execute_result"
    }
   ],
   "source": [
    "pre=li.predict(x_test)\n",
    "pre"
   ]
  },
  {
   "cell_type": "code",
   "execution_count": 13,
   "id": "342c350f-edf5-44e3-8b72-534dd5275cbd",
   "metadata": {},
   "outputs": [],
   "source": [
    "\n",
    "import pickle\n",
    "f=open('li.pkl', 'wb')\n",
    "pickle.dump(li, f)\n",
    "f.close()"
   ]
  },
  {
   "cell_type": "code",
   "execution_count": 14,
   "id": "94a2d87a-fd58-4f07-b135-d028dae40344",
   "metadata": {},
   "outputs": [],
   "source": [
    "f=open('li.pkl','rb')\n",
    "li=pickle.load(f)\n",
    "f.close()"
   ]
  },
  {
   "cell_type": "code",
   "execution_count": 15,
   "id": "00b7d795-7be3-43ea-af7a-f53a39476dec",
   "metadata": {},
   "outputs": [
    {
     "data": {
      "text/html": [
       "<style>#sk-container-id-2 {color: black;}#sk-container-id-2 pre{padding: 0;}#sk-container-id-2 div.sk-toggleable {background-color: white;}#sk-container-id-2 label.sk-toggleable__label {cursor: pointer;display: block;width: 100%;margin-bottom: 0;padding: 0.3em;box-sizing: border-box;text-align: center;}#sk-container-id-2 label.sk-toggleable__label-arrow:before {content: \"▸\";float: left;margin-right: 0.25em;color: #696969;}#sk-container-id-2 label.sk-toggleable__label-arrow:hover:before {color: black;}#sk-container-id-2 div.sk-estimator:hover label.sk-toggleable__label-arrow:before {color: black;}#sk-container-id-2 div.sk-toggleable__content {max-height: 0;max-width: 0;overflow: hidden;text-align: left;background-color: #f0f8ff;}#sk-container-id-2 div.sk-toggleable__content pre {margin: 0.2em;color: black;border-radius: 0.25em;background-color: #f0f8ff;}#sk-container-id-2 input.sk-toggleable__control:checked~div.sk-toggleable__content {max-height: 200px;max-width: 100%;overflow: auto;}#sk-container-id-2 input.sk-toggleable__control:checked~label.sk-toggleable__label-arrow:before {content: \"▾\";}#sk-container-id-2 div.sk-estimator input.sk-toggleable__control:checked~label.sk-toggleable__label {background-color: #d4ebff;}#sk-container-id-2 div.sk-label input.sk-toggleable__control:checked~label.sk-toggleable__label {background-color: #d4ebff;}#sk-container-id-2 input.sk-hidden--visually {border: 0;clip: rect(1px 1px 1px 1px);clip: rect(1px, 1px, 1px, 1px);height: 1px;margin: -1px;overflow: hidden;padding: 0;position: absolute;width: 1px;}#sk-container-id-2 div.sk-estimator {font-family: monospace;background-color: #f0f8ff;border: 1px dotted black;border-radius: 0.25em;box-sizing: border-box;margin-bottom: 0.5em;}#sk-container-id-2 div.sk-estimator:hover {background-color: #d4ebff;}#sk-container-id-2 div.sk-parallel-item::after {content: \"\";width: 100%;border-bottom: 1px solid gray;flex-grow: 1;}#sk-container-id-2 div.sk-label:hover label.sk-toggleable__label {background-color: #d4ebff;}#sk-container-id-2 div.sk-serial::before {content: \"\";position: absolute;border-left: 1px solid gray;box-sizing: border-box;top: 0;bottom: 0;left: 50%;z-index: 0;}#sk-container-id-2 div.sk-serial {display: flex;flex-direction: column;align-items: center;background-color: white;padding-right: 0.2em;padding-left: 0.2em;position: relative;}#sk-container-id-2 div.sk-item {position: relative;z-index: 1;}#sk-container-id-2 div.sk-parallel {display: flex;align-items: stretch;justify-content: center;background-color: white;position: relative;}#sk-container-id-2 div.sk-item::before, #sk-container-id-2 div.sk-parallel-item::before {content: \"\";position: absolute;border-left: 1px solid gray;box-sizing: border-box;top: 0;bottom: 0;left: 50%;z-index: -1;}#sk-container-id-2 div.sk-parallel-item {display: flex;flex-direction: column;z-index: 1;position: relative;background-color: white;}#sk-container-id-2 div.sk-parallel-item:first-child::after {align-self: flex-end;width: 50%;}#sk-container-id-2 div.sk-parallel-item:last-child::after {align-self: flex-start;width: 50%;}#sk-container-id-2 div.sk-parallel-item:only-child::after {width: 0;}#sk-container-id-2 div.sk-dashed-wrapped {border: 1px dashed gray;margin: 0 0.4em 0.5em 0.4em;box-sizing: border-box;padding-bottom: 0.4em;background-color: white;}#sk-container-id-2 div.sk-label label {font-family: monospace;font-weight: bold;display: inline-block;line-height: 1.2em;}#sk-container-id-2 div.sk-label-container {text-align: center;}#sk-container-id-2 div.sk-container {/* jupyter's `normalize.less` sets `[hidden] { display: none; }` but bootstrap.min.css set `[hidden] { display: none !important; }` so we also need the `!important` here to be able to override the default hidden behavior on the sphinx rendered scikit-learn.org. See: https://github.com/scikit-learn/scikit-learn/issues/21755 */display: inline-block !important;position: relative;}#sk-container-id-2 div.sk-text-repr-fallback {display: none;}</style><div id=\"sk-container-id-2\" class=\"sk-top-container\"><div class=\"sk-text-repr-fallback\"><pre>DecisionTreeRegressor()</pre><b>In a Jupyter environment, please rerun this cell to show the HTML representation or trust the notebook. <br />On GitHub, the HTML representation is unable to render, please try loading this page with nbviewer.org.</b></div><div class=\"sk-container\" hidden><div class=\"sk-item\"><div class=\"sk-estimator sk-toggleable\"><input class=\"sk-toggleable__control sk-hidden--visually\" id=\"sk-estimator-id-2\" type=\"checkbox\" checked><label for=\"sk-estimator-id-2\" class=\"sk-toggleable__label sk-toggleable__label-arrow\">DecisionTreeRegressor</label><div class=\"sk-toggleable__content\"><pre>DecisionTreeRegressor()</pre></div></div></div></div></div>"
      ],
      "text/plain": [
       "DecisionTreeRegressor()"
      ]
     },
     "execution_count": 15,
     "metadata": {},
     "output_type": "execute_result"
    }
   ],
   "source": [
    "from sklearn.tree import DecisionTreeRegressor\n",
    "dt_regressor = DecisionTreeRegressor()\n",
    "dt_regressor.fit(x_train, y_train)"
   ]
  },
  {
   "cell_type": "code",
   "execution_count": 16,
   "id": "27149e2f-04f3-4746-9cb0-f794839a861b",
   "metadata": {},
   "outputs": [
    {
     "data": {
      "text/plain": [
       "array([ 48.,  92.,  87.,  42.,  94.,  90.,  58.,  63.,  46.,  51., 150.,\n",
       "        47.,  65.,  55.,  92.,  68.,  98.,  47., 114.,  69.,  61.,  41.,\n",
       "        50.,  58.,  97.,  76.,  60.,  33., 132.,  92.,  62., 108.,  83.,\n",
       "        56.,  64.,  52., 144.,  83.,  48.,  64.,  44.,  87.,  39.,  52.,\n",
       "       119.,  88.,  96., 108.,  62.,  98.,  96., 106.,  80.,  57.,  44.,\n",
       "        69.,  49.,  99.,  60.,  88., 105., 107., 102.,  52.,  61.,  65.,\n",
       "        75.,  88.,  65.,  90.,  64.,  94.,  77.,  49.,  52.,  69.,  67.,\n",
       "        96.,  89.,  77.,  80., 121.,  48., 102.,  42.,  47.,  58., 102.,\n",
       "        70.,  59.,  82.,  34.,  92.,  99.,  57., 133.,  65.,  80., 146.,\n",
       "       161., 130.,  57., 113.,  91.,  40.,  64.,  39.,  50.,  50.,  55.,\n",
       "        76.,  55.,  53., 105., 100.,  43.,  67.,  77.,  74.,  76., 110.,\n",
       "        70.,  48., 120.,  76., 102.,  42.,  44., 105.,  96.,  66.,  53.,\n",
       "        60.,  76.,  50.,  73.,  78.,  65.,  96.,  92., 152., 104.,  69.,\n",
       "        79.,  65., 110.,  48., 106.,  55.,  43.,  65.,  62., 101.,  38.,\n",
       "        57.,  66.,  46.,  93.,  47.,  71.,  58., 100.,  46.,  54., 105.,\n",
       "        68., 106., 144., 101.,  59.,  83.,  66.,  51.,  85., 101., 102.,\n",
       "        68.,  57.,  55.,  74.,  89., 120.,  64.,  96.,  49., 118.,  58.,\n",
       "        53.,  57.,  76.,  64., 103.,  94., 101.,  86.,  62.,  56.,  78.,\n",
       "        40.,  99., 141.,  92.,  76.,  65.,  69., 120.,  46.,  57.,  71.,\n",
       "        92.,  52.,  41.,  82., 118.,  97.,  96.,  65.,  71.,  92.,  52.,\n",
       "        57.,  65.,  89.,  50.,  75.,  60.,  55., 160., 102.,  41.,  44.,\n",
       "        43.,  61.,  49.,  37.,  91.,  90.,  67.,  38.,  88.,  57., 152.,\n",
       "        54.,  56., 109.,  91.,  97.,  88.,  73.,  46.,  59.,  53.,  35.,\n",
       "        85.,  49., 106.,  61.,  95.,  74.,  57.,  57.,  58.,  46.,  71.,\n",
       "        55.,  55.,  47.,  60.,  92.,  64.,  67., 125.,  66.,  73.,  78.,\n",
       "        39.,  47., 142.,  60.,  63.,  58.,  59.,  42.,  66., 132.,  54.,\n",
       "        91.,  58.,  55.,  53.,  62.,  68.,  95.,  71., 106., 108., 119.,\n",
       "        88.,  93.,  50.,  66., 132.,  58.,  51., 134., 102.,  86.,  68.,\n",
       "        75.,  67.,  55.,  88.,  51.,  58.,  54.,  88.,  69.,  74.,  94.,\n",
       "        71.,  47.,  56., 111.,  43.,  71., 103.,  80.,  65.,  82.,  62.,\n",
       "        62., 135., 160.,  65.,  53.,  64.,  50.,  64.,  99.,  73.,  46.,\n",
       "        50., 106.,  50., 111.,  84.,  61.,  45., 118.,  56.,  94.,  63.,\n",
       "       126.,  60.,  48.,  57.,  71.,  88.,  84.,  94.,  62.,  54.,  60.,\n",
       "        56.,  51.,  77.,  49.,  58., 111.,  82.,  55.,  94.,  84.,  61.,\n",
       "        59.,  62.,  48., 114.,  51.,  70.,  94., 112.,  58., 125.,  65.,\n",
       "        43.,  94.,  46.,  79.,  58.,  68.,  79.,  96.,  47.,  77.,  46.,\n",
       "        50., 121.,  93.,  86.,  57.,  79., 108., 108.,  89.,  67.,  81.,\n",
       "        79.,  45.,  74.,  68.,  69.,  90.,  86.,  59.,  46.,  38.,  61.,\n",
       "        39.,  69.,  61.,  45.,  59.,  42.,  64., 124.,  61.,  41.,  47.,\n",
       "       112.,  50.,  50.,  57.,  47.,  87., 111.,  54.,  72.,  64.,  59.,\n",
       "        92., 113.,  58.,  84.,  48.,  54.,  43.,  79.,  84., 152.,  55.,\n",
       "       106., 127.,  61.,  35.,  60.,  81.,  74.,  61.,  66., 103.,  55.,\n",
       "        57.,  74.,  45., 114.,  82.,  69., 106.,  52.,  39.,  54.,  40.,\n",
       "        60.,  71.,  56.,  59.,  64.,  44.,  97.,  49.,  58., 125.,  58.,\n",
       "        98., 127.,  43.,  85.,  65.,  61.,  55.,  67.,  65., 179.,  74.,\n",
       "        56.,  45.,  34.,  74.,  59.,  62.,  70., 112.,  60.,  62.,  51.,\n",
       "        58.,  84.,  55.,  41., 119.,  90.])"
      ]
     },
     "execution_count": 16,
     "metadata": {},
     "output_type": "execute_result"
    }
   ],
   "source": [
    "data=dt_regressor.predict(x_test)\n",
    "data\n"
   ]
  },
  {
   "cell_type": "code",
   "execution_count": 17,
   "id": "3c1dd7e9-755a-4267-926d-d14a9c582b10",
   "metadata": {},
   "outputs": [
    {
     "data": {
      "text/plain": [
       "1.0"
      ]
     },
     "execution_count": 17,
     "metadata": {},
     "output_type": "execute_result"
    }
   ],
   "source": [
    "\n",
    "from sklearn.metrics import r2_score\n",
    "y_pred = li.predict(x_test)\n",
    "r2_score(y_test, y_pred)"
   ]
  },
  {
   "cell_type": "code",
   "execution_count": 18,
   "id": "9b8cf7ae-3e61-46f7-b114-25deabf3fb98",
   "metadata": {},
   "outputs": [
    {
     "name": "stdout",
     "output_type": "stream",
     "text": [
      "MSE 3.8230171619273285e-28\n"
     ]
    }
   ],
   "source": [
    "from sklearn.metrics import mean_squared_error\n",
    "print(\"MSE\", mean_squared_error(y_test, y_pred))"
   ]
  },
  {
   "cell_type": "code",
   "execution_count": 19,
   "id": "15e49362-708e-40c3-8f2c-4afe8da55f92",
   "metadata": {},
   "outputs": [
    {
     "name": "stdout",
     "output_type": "stream",
     "text": [
      "RME 1.955253733387902e-14\n"
     ]
    }
   ],
   "source": [
    "import numpy as np\n",
    "print(\"RME\",np.sqrt(mean_squared_error(y_test, y_pred)))"
   ]
  },
  {
   "cell_type": "code",
   "execution_count": 20,
   "id": "f84a222a-e7f7-4245-8935-b885148d002b",
   "metadata": {},
   "outputs": [
    {
     "data": {
      "text/html": [
       "<style>#sk-container-id-3 {color: black;}#sk-container-id-3 pre{padding: 0;}#sk-container-id-3 div.sk-toggleable {background-color: white;}#sk-container-id-3 label.sk-toggleable__label {cursor: pointer;display: block;width: 100%;margin-bottom: 0;padding: 0.3em;box-sizing: border-box;text-align: center;}#sk-container-id-3 label.sk-toggleable__label-arrow:before {content: \"▸\";float: left;margin-right: 0.25em;color: #696969;}#sk-container-id-3 label.sk-toggleable__label-arrow:hover:before {color: black;}#sk-container-id-3 div.sk-estimator:hover label.sk-toggleable__label-arrow:before {color: black;}#sk-container-id-3 div.sk-toggleable__content {max-height: 0;max-width: 0;overflow: hidden;text-align: left;background-color: #f0f8ff;}#sk-container-id-3 div.sk-toggleable__content pre {margin: 0.2em;color: black;border-radius: 0.25em;background-color: #f0f8ff;}#sk-container-id-3 input.sk-toggleable__control:checked~div.sk-toggleable__content {max-height: 200px;max-width: 100%;overflow: auto;}#sk-container-id-3 input.sk-toggleable__control:checked~label.sk-toggleable__label-arrow:before {content: \"▾\";}#sk-container-id-3 div.sk-estimator input.sk-toggleable__control:checked~label.sk-toggleable__label {background-color: #d4ebff;}#sk-container-id-3 div.sk-label input.sk-toggleable__control:checked~label.sk-toggleable__label {background-color: #d4ebff;}#sk-container-id-3 input.sk-hidden--visually {border: 0;clip: rect(1px 1px 1px 1px);clip: rect(1px, 1px, 1px, 1px);height: 1px;margin: -1px;overflow: hidden;padding: 0;position: absolute;width: 1px;}#sk-container-id-3 div.sk-estimator {font-family: monospace;background-color: #f0f8ff;border: 1px dotted black;border-radius: 0.25em;box-sizing: border-box;margin-bottom: 0.5em;}#sk-container-id-3 div.sk-estimator:hover {background-color: #d4ebff;}#sk-container-id-3 div.sk-parallel-item::after {content: \"\";width: 100%;border-bottom: 1px solid gray;flex-grow: 1;}#sk-container-id-3 div.sk-label:hover label.sk-toggleable__label {background-color: #d4ebff;}#sk-container-id-3 div.sk-serial::before {content: \"\";position: absolute;border-left: 1px solid gray;box-sizing: border-box;top: 0;bottom: 0;left: 50%;z-index: 0;}#sk-container-id-3 div.sk-serial {display: flex;flex-direction: column;align-items: center;background-color: white;padding-right: 0.2em;padding-left: 0.2em;position: relative;}#sk-container-id-3 div.sk-item {position: relative;z-index: 1;}#sk-container-id-3 div.sk-parallel {display: flex;align-items: stretch;justify-content: center;background-color: white;position: relative;}#sk-container-id-3 div.sk-item::before, #sk-container-id-3 div.sk-parallel-item::before {content: \"\";position: absolute;border-left: 1px solid gray;box-sizing: border-box;top: 0;bottom: 0;left: 50%;z-index: -1;}#sk-container-id-3 div.sk-parallel-item {display: flex;flex-direction: column;z-index: 1;position: relative;background-color: white;}#sk-container-id-3 div.sk-parallel-item:first-child::after {align-self: flex-end;width: 50%;}#sk-container-id-3 div.sk-parallel-item:last-child::after {align-self: flex-start;width: 50%;}#sk-container-id-3 div.sk-parallel-item:only-child::after {width: 0;}#sk-container-id-3 div.sk-dashed-wrapped {border: 1px dashed gray;margin: 0 0.4em 0.5em 0.4em;box-sizing: border-box;padding-bottom: 0.4em;background-color: white;}#sk-container-id-3 div.sk-label label {font-family: monospace;font-weight: bold;display: inline-block;line-height: 1.2em;}#sk-container-id-3 div.sk-label-container {text-align: center;}#sk-container-id-3 div.sk-container {/* jupyter's `normalize.less` sets `[hidden] { display: none; }` but bootstrap.min.css set `[hidden] { display: none !important; }` so we also need the `!important` here to be able to override the default hidden behavior on the sphinx rendered scikit-learn.org. See: https://github.com/scikit-learn/scikit-learn/issues/21755 */display: inline-block !important;position: relative;}#sk-container-id-3 div.sk-text-repr-fallback {display: none;}</style><div id=\"sk-container-id-3\" class=\"sk-top-container\"><div class=\"sk-text-repr-fallback\"><pre>RandomForestRegressor(random_state=42)</pre><b>In a Jupyter environment, please rerun this cell to show the HTML representation or trust the notebook. <br />On GitHub, the HTML representation is unable to render, please try loading this page with nbviewer.org.</b></div><div class=\"sk-container\" hidden><div class=\"sk-item\"><div class=\"sk-estimator sk-toggleable\"><input class=\"sk-toggleable__control sk-hidden--visually\" id=\"sk-estimator-id-3\" type=\"checkbox\" checked><label for=\"sk-estimator-id-3\" class=\"sk-toggleable__label sk-toggleable__label-arrow\">RandomForestRegressor</label><div class=\"sk-toggleable__content\"><pre>RandomForestRegressor(random_state=42)</pre></div></div></div></div></div>"
      ],
      "text/plain": [
       "RandomForestRegressor(random_state=42)"
      ]
     },
     "execution_count": 20,
     "metadata": {},
     "output_type": "execute_result"
    }
   ],
   "source": [
    "from sklearn.ensemble import RandomForestRegressor\n",
    "rf_regressor = RandomForestRegressor(n_estimators=100, random_state=42)\n",
    "rf_regressor.fit(x_train, y_train)"
   ]
  },
  {
   "cell_type": "code",
   "execution_count": 21,
   "id": "4f663edb-92a3-40e3-a786-f87c2265fd2c",
   "metadata": {},
   "outputs": [
    {
     "data": {
      "text/plain": [
       "array([ 48.  ,  92.  ,  87.  ,  42.  ,  94.  ,  90.  ,  58.  ,  63.  ,\n",
       "        46.  ,  51.  , 149.96,  47.  ,  65.  ,  55.  ,  92.  ,  68.  ,\n",
       "        98.  ,  47.  , 114.  ,  69.  ,  61.  ,  41.  ,  50.  ,  58.  ,\n",
       "        97.  ,  76.  ,  60.  ,  32.99, 132.01,  92.  ,  62.  , 108.  ,\n",
       "        83.  ,  56.  ,  64.  ,  52.  , 143.94,  83.  ,  48.  ,  64.  ,\n",
       "        44.  ,  87.  ,  39.  ,  52.  , 119.  ,  88.  ,  96.  , 108.  ,\n",
       "        62.  ,  98.  ,  96.  , 106.  ,  80.  ,  57.  ,  44.  ,  69.  ,\n",
       "        49.  ,  99.  ,  60.  ,  88.  , 105.  , 107.  , 102.  ,  52.  ,\n",
       "        61.  ,  65.  ,  75.  ,  88.  ,  65.  ,  90.  ,  64.  ,  94.  ,\n",
       "        77.  ,  49.  ,  52.  ,  69.  ,  67.  ,  96.  ,  89.  ,  77.  ,\n",
       "        80.  , 121.  ,  48.  , 102.  ,  42.  ,  47.  ,  58.  , 102.  ,\n",
       "        70.  ,  59.  ,  82.  ,  34.  ,  92.  ,  99.  ,  57.  , 133.  ,\n",
       "        65.  ,  80.  , 145.87, 160.95, 130.  ,  57.  , 113.  ,  91.  ,\n",
       "        40.  ,  64.  ,  39.  ,  50.  ,  50.  ,  55.  ,  76.  ,  55.  ,\n",
       "        53.  , 105.  , 100.  ,  43.  ,  67.  ,  77.  ,  74.  ,  76.  ,\n",
       "       110.  ,  70.  ,  48.  , 119.99,  76.  , 102.  ,  42.  ,  44.  ,\n",
       "       105.  ,  96.  ,  66.  ,  53.  ,  60.  ,  76.  ,  50.  ,  73.  ,\n",
       "        78.  ,  65.  ,  96.  ,  92.  , 151.92, 104.  ,  69.  ,  79.  ,\n",
       "        65.  , 110.  ,  48.  , 106.  ,  55.  ,  43.  ,  65.  ,  62.  ,\n",
       "       101.  ,  38.  ,  57.  ,  66.  ,  46.  ,  93.  ,  47.  ,  71.  ,\n",
       "        58.  , 100.  ,  46.  ,  54.  , 105.  ,  68.  , 106.  , 143.94,\n",
       "       101.  ,  59.  ,  83.  ,  66.  ,  51.  ,  85.  , 101.  , 102.  ,\n",
       "        68.  ,  57.  ,  55.  ,  74.  ,  89.  , 119.99,  64.  ,  96.  ,\n",
       "        49.  , 118.  ,  58.  ,  53.  ,  57.  ,  76.  ,  64.  , 103.  ,\n",
       "        94.  , 101.  ,  86.  ,  62.  ,  56.  ,  78.  ,  40.  ,  99.  ,\n",
       "       140.81,  92.  ,  76.  ,  65.  ,  69.  , 119.99,  46.  ,  57.  ,\n",
       "        71.  ,  92.  ,  52.  ,  41.  ,  82.  , 118.  ,  97.  ,  96.  ,\n",
       "        65.  ,  71.  ,  92.  ,  52.  ,  57.  ,  65.  ,  89.  ,  50.  ,\n",
       "        75.  ,  60.  ,  55.  , 160.15, 102.  ,  41.  ,  44.  ,  43.  ,\n",
       "        61.  ,  49.  ,  36.99,  91.  ,  90.  ,  67.  ,  38.  ,  88.  ,\n",
       "        57.  , 153.67,  54.  ,  56.  , 109.  ,  91.  ,  97.  ,  88.  ,\n",
       "        73.  ,  46.  ,  59.  ,  53.  ,  34.99,  85.  ,  49.  , 106.  ,\n",
       "        61.  ,  95.  ,  74.  ,  57.  ,  57.  ,  58.  ,  46.  ,  71.  ,\n",
       "        55.  ,  55.  ,  47.  ,  60.  ,  92.  ,  64.  ,  67.  , 124.98,\n",
       "        66.  ,  73.  ,  78.  ,  39.  ,  47.  , 142.  ,  60.  ,  63.  ,\n",
       "        58.  ,  59.  ,  42.  ,  66.  , 132.01,  54.  ,  91.  ,  58.  ,\n",
       "        55.  ,  53.  ,  62.  ,  68.  ,  95.  ,  71.  , 106.  , 108.  ,\n",
       "       119.  ,  88.  ,  93.  ,  50.  ,  66.  , 132.01,  58.  ,  51.  ,\n",
       "       133.94, 102.  ,  86.  ,  68.  ,  75.  ,  67.  ,  55.  ,  88.  ,\n",
       "        51.  ,  58.  ,  54.  ,  88.  ,  69.  ,  74.  ,  94.  ,  71.  ,\n",
       "        47.  ,  56.  , 111.  ,  43.  ,  71.  , 103.  ,  80.  ,  65.  ,\n",
       "        82.  ,  62.  ,  62.  , 134.98, 160.15,  65.  ,  53.  ,  64.  ,\n",
       "        50.  ,  64.  ,  99.  ,  73.  ,  46.  ,  50.  , 106.  ,  50.  ,\n",
       "       111.  ,  84.  ,  61.  ,  45.  , 118.  ,  56.  ,  94.  ,  63.  ,\n",
       "       126.02,  60.  ,  48.  ,  57.  ,  71.  ,  88.  ,  84.  ,  94.  ,\n",
       "        62.  ,  54.  ,  60.  ,  56.  ,  51.  ,  77.  ,  49.  ,  58.  ,\n",
       "       111.  ,  82.  ,  55.  ,  94.  ,  84.  ,  61.  ,  59.  ,  62.  ,\n",
       "        48.  , 114.  ,  51.  ,  70.  ,  94.  , 112.  ,  58.  , 124.98,\n",
       "        65.  ,  43.  ,  94.  ,  46.  ,  79.  ,  58.  ,  68.  ,  79.  ,\n",
       "        96.  ,  47.  ,  77.  ,  46.  ,  50.  , 121.  ,  93.  ,  86.  ,\n",
       "        57.  ,  79.  , 108.  , 108.  ,  89.  ,  67.  ,  81.  ,  79.  ,\n",
       "        45.  ,  74.  ,  68.  ,  69.  ,  90.  ,  86.  ,  59.  ,  46.  ,\n",
       "        38.  ,  61.  ,  39.  ,  69.  ,  61.  ,  45.  ,  59.  ,  42.  ,\n",
       "        64.  , 123.99,  61.  ,  41.  ,  47.  , 112.  ,  50.  ,  50.  ,\n",
       "        57.  ,  47.  ,  87.  , 111.  ,  54.  ,  72.  ,  64.  ,  59.  ,\n",
       "        92.  , 113.  ,  58.  ,  84.  ,  48.  ,  54.  ,  43.  ,  79.  ,\n",
       "        84.  , 151.92,  55.  , 106.  , 127.  ,  61.  ,  34.99,  60.  ,\n",
       "        81.  ,  74.  ,  61.  ,  66.  , 103.  ,  55.  ,  57.  ,  74.  ,\n",
       "        45.  , 114.  ,  82.  ,  69.  , 106.  ,  52.  ,  39.  ,  54.  ,\n",
       "        40.  ,  60.  ,  71.  ,  56.  ,  59.  ,  64.  ,  44.  ,  97.  ,\n",
       "        49.  ,  58.  , 124.98,  58.  ,  98.  , 127.  ,  43.  ,  85.  ,\n",
       "        65.  ,  61.  ,  55.  ,  67.  ,  65.  , 178.71,  74.  ,  56.  ,\n",
       "        45.  ,  34.  ,  74.  ,  59.  ,  62.  ,  70.  , 112.  ,  60.  ,\n",
       "        62.  ,  51.  ,  58.  ,  84.  ,  55.  ,  41.  , 119.  ,  90.  ])"
      ]
     },
     "execution_count": 21,
     "metadata": {},
     "output_type": "execute_result"
    }
   ],
   "source": [
    "pre=rf_regressor.predict(x_test)\n",
    "pre"
   ]
  },
  {
   "cell_type": "code",
   "execution_count": 22,
   "id": "a29bee32-8fc2-4348-87a6-a6510cc3e10c",
   "metadata": {},
   "outputs": [
    {
     "data": {
      "text/plain": [
       "1.0"
      ]
     },
     "execution_count": 22,
     "metadata": {},
     "output_type": "execute_result"
    }
   ],
   "source": [
    "from sklearn.metrics import r2_score\n",
    "y_pred = li.predict(x_test)\n",
    "r2_score(y_test, y_pred)"
   ]
  },
  {
   "cell_type": "code",
   "execution_count": 23,
   "id": "5e5ccaf1-2203-4eda-ae5c-06c26619cfed",
   "metadata": {},
   "outputs": [
    {
     "name": "stdout",
     "output_type": "stream",
     "text": [
      "MSE 3.8230171619273285e-28\n"
     ]
    }
   ],
   "source": [
    "from sklearn.metrics import mean_squared_error\n",
    "print(\"MSE\", mean_squared_error(y_test, y_pred))"
   ]
  },
  {
   "cell_type": "code",
   "execution_count": 24,
   "id": "66f619eb-3c88-4731-a330-6cdb18b83139",
   "metadata": {},
   "outputs": [
    {
     "name": "stdout",
     "output_type": "stream",
     "text": [
      "RME 1.955253733387902e-14\n"
     ]
    }
   ],
   "source": [
    "import numpy as np\n",
    "print(\"RME\",np.sqrt(mean_squared_error(y_test, y_pred)))"
   ]
  },
  {
   "cell_type": "code",
   "execution_count": 25,
   "id": "cd677e5b-489e-44d6-8659-199011844275",
   "metadata": {},
   "outputs": [
    {
     "data": {
      "text/html": [
       "<style>#sk-container-id-4 {color: black;}#sk-container-id-4 pre{padding: 0;}#sk-container-id-4 div.sk-toggleable {background-color: white;}#sk-container-id-4 label.sk-toggleable__label {cursor: pointer;display: block;width: 100%;margin-bottom: 0;padding: 0.3em;box-sizing: border-box;text-align: center;}#sk-container-id-4 label.sk-toggleable__label-arrow:before {content: \"▸\";float: left;margin-right: 0.25em;color: #696969;}#sk-container-id-4 label.sk-toggleable__label-arrow:hover:before {color: black;}#sk-container-id-4 div.sk-estimator:hover label.sk-toggleable__label-arrow:before {color: black;}#sk-container-id-4 div.sk-toggleable__content {max-height: 0;max-width: 0;overflow: hidden;text-align: left;background-color: #f0f8ff;}#sk-container-id-4 div.sk-toggleable__content pre {margin: 0.2em;color: black;border-radius: 0.25em;background-color: #f0f8ff;}#sk-container-id-4 input.sk-toggleable__control:checked~div.sk-toggleable__content {max-height: 200px;max-width: 100%;overflow: auto;}#sk-container-id-4 input.sk-toggleable__control:checked~label.sk-toggleable__label-arrow:before {content: \"▾\";}#sk-container-id-4 div.sk-estimator input.sk-toggleable__control:checked~label.sk-toggleable__label {background-color: #d4ebff;}#sk-container-id-4 div.sk-label input.sk-toggleable__control:checked~label.sk-toggleable__label {background-color: #d4ebff;}#sk-container-id-4 input.sk-hidden--visually {border: 0;clip: rect(1px 1px 1px 1px);clip: rect(1px, 1px, 1px, 1px);height: 1px;margin: -1px;overflow: hidden;padding: 0;position: absolute;width: 1px;}#sk-container-id-4 div.sk-estimator {font-family: monospace;background-color: #f0f8ff;border: 1px dotted black;border-radius: 0.25em;box-sizing: border-box;margin-bottom: 0.5em;}#sk-container-id-4 div.sk-estimator:hover {background-color: #d4ebff;}#sk-container-id-4 div.sk-parallel-item::after {content: \"\";width: 100%;border-bottom: 1px solid gray;flex-grow: 1;}#sk-container-id-4 div.sk-label:hover label.sk-toggleable__label {background-color: #d4ebff;}#sk-container-id-4 div.sk-serial::before {content: \"\";position: absolute;border-left: 1px solid gray;box-sizing: border-box;top: 0;bottom: 0;left: 50%;z-index: 0;}#sk-container-id-4 div.sk-serial {display: flex;flex-direction: column;align-items: center;background-color: white;padding-right: 0.2em;padding-left: 0.2em;position: relative;}#sk-container-id-4 div.sk-item {position: relative;z-index: 1;}#sk-container-id-4 div.sk-parallel {display: flex;align-items: stretch;justify-content: center;background-color: white;position: relative;}#sk-container-id-4 div.sk-item::before, #sk-container-id-4 div.sk-parallel-item::before {content: \"\";position: absolute;border-left: 1px solid gray;box-sizing: border-box;top: 0;bottom: 0;left: 50%;z-index: -1;}#sk-container-id-4 div.sk-parallel-item {display: flex;flex-direction: column;z-index: 1;position: relative;background-color: white;}#sk-container-id-4 div.sk-parallel-item:first-child::after {align-self: flex-end;width: 50%;}#sk-container-id-4 div.sk-parallel-item:last-child::after {align-self: flex-start;width: 50%;}#sk-container-id-4 div.sk-parallel-item:only-child::after {width: 0;}#sk-container-id-4 div.sk-dashed-wrapped {border: 1px dashed gray;margin: 0 0.4em 0.5em 0.4em;box-sizing: border-box;padding-bottom: 0.4em;background-color: white;}#sk-container-id-4 div.sk-label label {font-family: monospace;font-weight: bold;display: inline-block;line-height: 1.2em;}#sk-container-id-4 div.sk-label-container {text-align: center;}#sk-container-id-4 div.sk-container {/* jupyter's `normalize.less` sets `[hidden] { display: none; }` but bootstrap.min.css set `[hidden] { display: none !important; }` so we also need the `!important` here to be able to override the default hidden behavior on the sphinx rendered scikit-learn.org. See: https://github.com/scikit-learn/scikit-learn/issues/21755 */display: inline-block !important;position: relative;}#sk-container-id-4 div.sk-text-repr-fallback {display: none;}</style><div id=\"sk-container-id-4\" class=\"sk-top-container\"><div class=\"sk-text-repr-fallback\"><pre>KNeighborsRegressor()</pre><b>In a Jupyter environment, please rerun this cell to show the HTML representation or trust the notebook. <br />On GitHub, the HTML representation is unable to render, please try loading this page with nbviewer.org.</b></div><div class=\"sk-container\" hidden><div class=\"sk-item\"><div class=\"sk-estimator sk-toggleable\"><input class=\"sk-toggleable__control sk-hidden--visually\" id=\"sk-estimator-id-4\" type=\"checkbox\" checked><label for=\"sk-estimator-id-4\" class=\"sk-toggleable__label sk-toggleable__label-arrow\">KNeighborsRegressor</label><div class=\"sk-toggleable__content\"><pre>KNeighborsRegressor()</pre></div></div></div></div></div>"
      ],
      "text/plain": [
       "KNeighborsRegressor()"
      ]
     },
     "execution_count": 25,
     "metadata": {},
     "output_type": "execute_result"
    }
   ],
   "source": [
    "from sklearn.neighbors import KNeighborsRegressor\n",
    "knn_regressor = KNeighborsRegressor(n_neighbors=5)\n",
    "knn_regressor.fit(x_train, y_train)"
   ]
  },
  {
   "cell_type": "code",
   "execution_count": 26,
   "id": "c7d56a4e-ff2f-477f-994a-e3c3e74c707c",
   "metadata": {},
   "outputs": [
    {
     "data": {
      "text/plain": [
       "array([ 48. ,  92. ,  87. ,  42. ,  94. ,  90. ,  58. ,  63. ,  46. ,\n",
       "        51. , 150.6,  47. ,  65. ,  55. ,  92. ,  68. ,  98. ,  47. ,\n",
       "       114. ,  69. ,  61. ,  41. ,  50. ,  58. ,  97. ,  76. ,  60. ,\n",
       "        33.2, 132.4,  92. ,  62. , 108. ,  83. ,  56. ,  64. ,  52. ,\n",
       "       143.8,  83. ,  48. ,  64. ,  44. ,  87. ,  39. ,  52. , 119. ,\n",
       "        88. ,  96. , 108. ,  62. ,  98. ,  96. , 106. ,  80. ,  57. ,\n",
       "        44. ,  69. ,  49. ,  99. ,  60. ,  88. , 105. , 107. , 102. ,\n",
       "        52. ,  61. ,  65. ,  75. ,  88. ,  65. ,  90. ,  64. ,  94. ,\n",
       "        77. ,  49. ,  52. ,  69. ,  67. ,  96. ,  89. ,  77. ,  80. ,\n",
       "       121. ,  48. , 102. ,  42. ,  47. ,  58. , 102. ,  70. ,  59. ,\n",
       "        82. ,  34. ,  92. ,  99. ,  57. , 133. ,  65. ,  80. , 145.4,\n",
       "       161. , 130.2,  57. , 113. ,  91. ,  40. ,  64. ,  39. ,  50. ,\n",
       "        50. ,  55. ,  76. ,  55. ,  53. , 105. , 100. ,  43. ,  67. ,\n",
       "        77. ,  74. ,  76. , 110. ,  70. ,  48. , 119.8,  76. , 102. ,\n",
       "        42. ,  44. , 105. ,  96. ,  66. ,  53. ,  60. ,  76. ,  50. ,\n",
       "        73. ,  78. ,  65. ,  96. ,  92. , 151.6, 104. ,  69. ,  79. ,\n",
       "        65. , 110. ,  48. , 106. ,  55. ,  43. ,  65. ,  62. , 101. ,\n",
       "        38. ,  57. ,  66. ,  46. ,  93. ,  47. ,  71. ,  58. , 100. ,\n",
       "        46. ,  54. , 105. ,  68. , 106. , 143.8, 101. ,  59. ,  83. ,\n",
       "        66. ,  51. ,  85. , 101. , 102. ,  68. ,  57. ,  55. ,  74. ,\n",
       "        89. , 119.8,  64. ,  96. ,  49. , 118. ,  58. ,  53. ,  57. ,\n",
       "        76. ,  64. , 103. ,  94. , 101. ,  86. ,  62. ,  56. ,  78. ,\n",
       "        40. ,  99. , 141.4,  92. ,  76. ,  65. ,  69. , 119.8,  46. ,\n",
       "        57. ,  71. ,  92. ,  52. ,  41. ,  82. , 118. ,  97. ,  96. ,\n",
       "        65. ,  71. ,  92. ,  52. ,  57. ,  65. ,  89. ,  50. ,  75. ,\n",
       "        60. ,  55. , 161. , 102. ,  41. ,  44. ,  43. ,  61. ,  49. ,\n",
       "        36.6,  91. ,  90. ,  67. ,  38. ,  88. ,  57. , 155.2,  54. ,\n",
       "        56. , 109. ,  91. ,  97. ,  88. ,  73. ,  46. ,  59. ,  53. ,\n",
       "        35. ,  85. ,  49. , 106. ,  61. ,  95. ,  74. ,  57. ,  57. ,\n",
       "        58. ,  46. ,  71. ,  55. ,  55. ,  47. ,  60. ,  92. ,  64. ,\n",
       "        67. , 125. ,  66. ,  73. ,  78. ,  39. ,  47. , 142.4,  60. ,\n",
       "        63. ,  58. ,  59. ,  42. ,  66. , 132.4,  54. ,  91. ,  58. ,\n",
       "        55. ,  53. ,  62. ,  68. ,  95. ,  71. , 106. , 108. , 119. ,\n",
       "        88. ,  93. ,  50. ,  66. , 132.4,  58. ,  51. , 133.4, 102. ,\n",
       "        86. ,  68. ,  75. ,  67. ,  55. ,  88. ,  51. ,  58. ,  54. ,\n",
       "        88. ,  69. ,  74. ,  94. ,  71. ,  47. ,  56. , 111. ,  43. ,\n",
       "        71. , 103. ,  80. ,  65. ,  82. ,  62. ,  62. , 134.8, 161. ,\n",
       "        65. ,  53. ,  64. ,  50. ,  64. ,  99. ,  73. ,  46. ,  50. ,\n",
       "       106. ,  50. , 111. ,  84. ,  61. ,  45. , 118. ,  56. ,  94. ,\n",
       "        63. , 125.6,  60. ,  48. ,  57. ,  71. ,  88. ,  84. ,  94. ,\n",
       "        62. ,  54. ,  60. ,  56. ,  51. ,  77. ,  49. ,  58. , 111. ,\n",
       "        82. ,  55. ,  94. ,  84. ,  61. ,  59. ,  62. ,  48. , 114. ,\n",
       "        51. ,  70. ,  94. , 112. ,  58. , 125. ,  65. ,  43. ,  94. ,\n",
       "        46. ,  79. ,  58. ,  68. ,  79. ,  96. ,  47. ,  77. ,  46. ,\n",
       "        50. , 121. ,  93. ,  86. ,  57. ,  79. , 108. , 108. ,  89. ,\n",
       "        67. ,  81. ,  79. ,  45. ,  74. ,  68. ,  69. ,  90. ,  86. ,\n",
       "        59. ,  46. ,  38. ,  61. ,  39. ,  69. ,  61. ,  45. ,  59. ,\n",
       "        42. ,  64. , 124.2,  61. ,  41. ,  47. , 112. ,  50. ,  50. ,\n",
       "        57. ,  47. ,  87. , 111. ,  54. ,  72. ,  64. ,  59. ,  92. ,\n",
       "       113. ,  58. ,  84. ,  48. ,  54. ,  43. ,  79. ,  84. , 151.6,\n",
       "        55. , 106. , 127. ,  61. ,  35. ,  60. ,  81. ,  74. ,  61. ,\n",
       "        66. , 103. ,  55. ,  57. ,  74. ,  45. , 114. ,  82. ,  69. ,\n",
       "       106. ,  52. ,  39. ,  54. ,  40. ,  60. ,  71. ,  56. ,  59. ,\n",
       "        64. ,  44. ,  97. ,  49. ,  58. , 125. ,  58. ,  98. , 127. ,\n",
       "        43. ,  85. ,  65. ,  61. ,  55. ,  67. ,  65. , 174.8,  74. ,\n",
       "        56. ,  45. ,  34. ,  74. ,  59. ,  62. ,  70. , 112. ,  60. ,\n",
       "        62. ,  51. ,  58. ,  84. ,  55. ,  41. , 119. ,  90. ])"
      ]
     },
     "execution_count": 26,
     "metadata": {},
     "output_type": "execute_result"
    }
   ],
   "source": [
    "pre=knn_regressor.predict(x_test)\n",
    "pre\n"
   ]
  },
  {
   "cell_type": "code",
   "execution_count": 27,
   "id": "57339cd2-02b3-4f14-945a-c5c753708a17",
   "metadata": {},
   "outputs": [
    {
     "data": {
      "text/plain": [
       "1.0"
      ]
     },
     "execution_count": 27,
     "metadata": {},
     "output_type": "execute_result"
    }
   ],
   "source": [
    "from sklearn.metrics import r2_score\n",
    "y_pred = li.predict(x_test)\n",
    "r2_score(y_test, y_pred)"
   ]
  },
  {
   "cell_type": "code",
   "execution_count": 28,
   "id": "56e5682d-b88a-4985-aeb2-35cd1773398b",
   "metadata": {},
   "outputs": [
    {
     "name": "stdout",
     "output_type": "stream",
     "text": [
      "MSE 3.8230171619273285e-28\n"
     ]
    }
   ],
   "source": [
    "\n",
    "from sklearn.metrics import mean_squared_error\n",
    "print(\"MSE\", mean_squared_error(y_test, y_pred))"
   ]
  },
  {
   "cell_type": "code",
   "execution_count": 29,
   "id": "f52ed75f-9b27-4bf1-92d6-254539b768b3",
   "metadata": {},
   "outputs": [
    {
     "name": "stdout",
     "output_type": "stream",
     "text": [
      "RME 1.955253733387902e-14\n"
     ]
    }
   ],
   "source": [
    "import numpy as np\n",
    "print(\"RME\",np.sqrt(mean_squared_error(y_test, y_pred)))"
   ]
  },
  {
   "cell_type": "code",
   "execution_count": 30,
   "id": "40e60fd0-6981-412f-893d-6fb4f86e8a27",
   "metadata": {},
   "outputs": [],
   "source": [
    "import matplotlib.pyplot as plt"
   ]
  },
  {
   "cell_type": "code",
   "execution_count": 31,
   "id": "b759e0ec-a964-4413-a9c8-401e4b80513a",
   "metadata": {},
   "outputs": [
    {
     "data": {
      "image/png": "[encoded data removed]",
      "text/plain": [
       "<Figure size 640x480 with 1 Axes>"
      ]
     },
     "metadata": {},
     "output_type": "display_data"
    }
   ],
   "source": [
    "categories=['Good','Unhealthy','Very Unhealthy','Hazardous']\n",
    "values= [50,150,200,500]\n",
    "plt.bar(categories,values)\n",
    "plt.show()"
   ]
  },
  {
   "cell_type": "code",
   "execution_count": null,
   "id": "89b856a1-0b02-4af2-a248-fa476068811d",
   "metadata": {},
   "outputs": [],
   "source": []
  },
  {
   "cell_type": "code",
   "execution_count": null,
   "id": "8bd2fac3-afb9-4518-b3ea-181e38a1cafa",
   "metadata": {},
   "outputs": [],
   "source": []
  }
 ],
 "metadata": {
  "kernelspec": {
   "display_name": "Python 3 (ipykernel)",
   "language": "python",
   "name": "python3"
  },
  "language_info": {
   "codemirror_mode": {
    "name": "ipython",
    "version": 3
   },
   "file_extension": ".py",
   "mimetype": "text/x-python",
   "name": "python",
   "nbconvert_exporter": "python",
   "pygments_lexer": "ipython3",
   "version": "3.8.0"
  }
 },
 "nbformat": 4,
 "nbformat_minor": 5
}
